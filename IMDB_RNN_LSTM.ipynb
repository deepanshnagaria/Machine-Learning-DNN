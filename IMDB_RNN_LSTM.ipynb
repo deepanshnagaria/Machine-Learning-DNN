{
 "cells": [
  {
   "cell_type": "code",
   "execution_count": 1,
   "metadata": {},
   "outputs": [
    {
     "name": "stderr",
     "output_type": "stream",
     "text": [
      "D:\\anaconda\\lib\\site-packages\\h5py\\__init__.py:36: FutureWarning: Conversion of the second argument of issubdtype from `float` to `np.floating` is deprecated. In future, it will be treated as `np.float64 == np.dtype(float).type`.\n",
      "  from ._conv import register_converters as _register_converters\n"
     ]
    },
    {
     "name": "stdout",
     "output_type": "stream",
     "text": [
      "curses is not supported on this machine (please install/reinstall curses for an optimal experience)\n"
     ]
    }
   ],
   "source": [
    "import tflearn\n",
    "from tflearn.data_utils import to_categorical,pad_sequences\n",
    "from tflearn.datasets import imdb\n",
    "train,test,_=imdb.load_data(path='imdb.pkl',n_words=10000,valid_portion=0.1)\n",
    "trainX,trainY=train\n",
    "testX,testY=test\n",
    "trainX=pad_sequences(trainX,maxlen=100,value=0.)\n",
    "testX=pad_sequences(testX,maxlen=100,value=0.)\n",
    "\n"
   ]
  },
  {
   "cell_type": "code",
   "execution_count": 2,
   "metadata": {},
   "outputs": [],
   "source": [
    "d=to_categorical(trainY,nb_classes=2)\n",
    "d1=to_categorical(testY,nb_classes=2)\n"
   ]
  },
  {
   "cell_type": "code",
   "execution_count": 3,
   "metadata": {},
   "outputs": [
    {
     "name": "stdout",
     "output_type": "stream",
     "text": [
      "Training Step: 1407  | total loss: \u001b[1m\u001b[32m0.31704\u001b[0m\u001b[0m | time: 107.097s\n",
      "| Adam | epoch: 002 | loss: 0.31704 - acc: 0.8851 -- iter: 22496/22500\n",
      "Training Step: 1408  | total loss: \u001b[1m\u001b[32m0.30315\u001b[0m\u001b[0m | time: 111.370s\n",
      "| Adam | epoch: 002 | loss: 0.30315 - acc: 0.8872 | val_loss: 0.46341 - val_acc: 0.7980 -- iter: 22500/22500\n",
      "--\n"
     ]
    }
   ],
   "source": [
    "net=tflearn.input_data([None,100])\n",
    "net=tflearn.embedding(net,input_dim=10000,output_dim=128)\n",
    "net=tflearn.lstm(net,128,dropout=0.8)\n",
    "net=tflearn.fully_connected(net,2,activation='softmax')\n",
    "net=tflearn.regression(net,optimizer='adam',learning_rate=0.0001,loss='categorical_crossentropy')\n",
    "model=tflearn.DNN(net,tensorboard_verbose=0)\n",
    "model.fit(trainX,d,validation_set=(testX,d1),show_metric=True,batch_size=32,n_epoch=2)"
   ]
  },
  {
   "cell_type": "code",
   "execution_count": 6,
   "metadata": {},
   "outputs": [
    {
     "name": "stdout",
     "output_type": "stream",
     "text": [
      "Accuracy: 79.80%\n"
     ]
    }
   ],
   "source": [
    "scores = model.evaluate(testX, d1)\n",
    "print(\"Accuracy: %.2f%%\" % (scores[0]*100))"
   ]
  },
  {
   "cell_type": "code",
   "execution_count": null,
   "metadata": {},
   "outputs": [],
   "source": []
  }
 ],
 "metadata": {
  "kernelspec": {
   "display_name": "Python 3",
   "language": "python",
   "name": "python3"
  },
  "language_info": {
   "codemirror_mode": {
    "name": "ipython",
    "version": 3
   },
   "file_extension": ".py",
   "mimetype": "text/x-python",
   "name": "python",
   "nbconvert_exporter": "python",
   "pygments_lexer": "ipython3",
   "version": "3.6.5"
  }
 },
 "nbformat": 4,
 "nbformat_minor": 2
}
